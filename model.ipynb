{
 "cells": [
  {
   "cell_type": "code",
   "execution_count": 1,
   "metadata": {
    "id": "yHmEUUcEadtM"
   },
   "outputs": [],
   "source": [
    "import pandas as pd\n",
    "import numpy as np\n",
    "import matplotlib.pyplot as plt\n",
    "import seaborn as sns\n",
    "from sklearn.metrics import confusion_matrix"
   ]
  },
  {
   "cell_type": "code",
   "execution_count": 2,
   "metadata": {
    "colab": {
     "base_uri": "https://localhost:8080/",
     "height": 473
    },
    "id": "JA79sg4F6fPX",
    "outputId": "4b36b90e-d8b3-4962-eff0-292845bea736"
   },
   "outputs": [],
   "source": [
    "data = pd.read_csv('lending_club_loan_two.csv')"
   ]
  },
  {
   "cell_type": "code",
   "execution_count": 3,
   "metadata": {
    "id": "GpH6xblXbKLR"
   },
   "outputs": [],
   "source": [
    "data.dropna(inplace=True)"
   ]
  },
  {
   "cell_type": "code",
   "execution_count": 4,
   "metadata": {
    "id": "_BrqvtgDbW-f"
   },
   "outputs": [],
   "source": [
    "# Typecasting\n",
    "data['issue_d'] = pd.to_datetime(data['issue_d']).dt.date\n",
    "data['earliest_cr_line'] = pd.to_datetime(data['earliest_cr_line']).dt.year\n",
    "data['emp_length']=data['emp_length'].replace(['10+ years','< 1 year'],['11 years','0 years'])\n",
    "data['term']=data.term.str.replace(' months','').astype(int)"
   ]
  },
  {
   "cell_type": "code",
   "execution_count": 5,
   "metadata": {
    "id": "pwoZ2T3dDjP-"
   },
   "outputs": [],
   "source": [
    "def emp_length_to_int(s):\n",
    "    if pd.isnull(s):\n",
    "        return s\n",
    "    else:\n",
    "        return np.int8(s.split()[0])"
   ]
  },
  {
   "cell_type": "code",
   "execution_count": 6,
   "metadata": {
    "id": "RzeASldeDlx7"
   },
   "outputs": [],
   "source": [
    "data['emp_length']=data['emp_length'].apply(emp_length_to_int)"
   ]
  },
  {
   "cell_type": "code",
   "execution_count": 7,
   "metadata": {
    "id": "S-oAMFCehdTM"
   },
   "outputs": [],
   "source": [
    "# Outlier removal\n",
    "from scipy import stats"
   ]
  },
  {
   "cell_type": "code",
   "execution_count": 8,
   "metadata": {
    "colab": {
     "base_uri": "https://localhost:8080/"
    },
    "id": "f0S2WsEljKWN",
    "outputId": "bbdfe47c-3a92-4c8e-b5e6-c84795ee2104"
   },
   "outputs": [],
   "source": [
    "IQR =stats.iqr(data.loan_amnt,interpolation='midpoint')\n",
    "Q1=data.loan_amnt.quantile(0.25)\n",
    "Q3=data.loan_amnt.quantile(0.75)\n",
    "min_limit=Q1-1.5*IQR\n",
    "max_limit=Q3+1.5*IQR\n",
    "min_limit,max_limit\n",
    "data.loc[data['loan_amnt']>max_limit,'loan_amnt']=np.median(data.loan_amnt)"
   ]
  },
  {
   "cell_type": "code",
   "execution_count": 9,
   "metadata": {
    "colab": {
     "base_uri": "https://localhost:8080/"
    },
    "id": "J2jzXOqDjV1L",
    "outputId": "45d39bec-e5f4-40e0-d799-b1bde963c716"
   },
   "outputs": [],
   "source": [
    "IQR =stats.iqr(data.int_rate,interpolation='midpoint')\n",
    "Q1=data.int_rate.quantile(0.25)\n",
    "Q3=data.int_rate.quantile(0.75)\n",
    "min_limit=Q1-1.5*IQR\n",
    "max_limit=Q3+1.5*IQR\n",
    "min_limit,max_limit\n",
    "data.loc[data['int_rate']>max_limit,'int_rate']=np.median(data.int_rate)"
   ]
  },
  {
   "cell_type": "code",
   "execution_count": 10,
   "metadata": {
    "colab": {
     "base_uri": "https://localhost:8080/"
    },
    "id": "GDclqvNyjfZ_",
    "outputId": "1aa60e8e-a77d-4a11-8861-9ca4aa803c6e"
   },
   "outputs": [],
   "source": [
    "IQR =stats.iqr(data.dti,interpolation='midpoint')\n",
    "Q1=data.dti.quantile(0.25)\n",
    "Q3=data.dti.quantile(0.75)\n",
    "min_limit=Q1-1.5*IQR\n",
    "max_limit=Q3+1.5*IQR\n",
    "min_limit,max_limit\n",
    "data.loc[data['dti']>max_limit,'dti']=np.median(data.dti)"
   ]
  },
  {
   "cell_type": "code",
   "execution_count": 11,
   "metadata": {
    "colab": {
     "base_uri": "https://localhost:8080/"
    },
    "id": "yHqIRmdwjqzx",
    "outputId": "bdae083f-e2de-4d5f-b83d-f9417e0e04e5"
   },
   "outputs": [],
   "source": [
    "IQR =stats.iqr(data.open_acc,interpolation='midpoint')\n",
    "Q1=data.open_acc.quantile(0.25)\n",
    "Q3=data.open_acc.quantile(0.75)\n",
    "min_limit=Q1-1.5*IQR\n",
    "max_limit=Q3+1.5*IQR\n",
    "min_limit,max_limit\n",
    "data.loc[data['open_acc']>max_limit,'open_acc']=np.median(data.open_acc)"
   ]
  },
  {
   "cell_type": "code",
   "execution_count": 12,
   "metadata": {
    "colab": {
     "base_uri": "https://localhost:8080/"
    },
    "id": "tcMWwVc8j18G",
    "outputId": "5051629e-468d-4b6b-8130-a9b9ecde59d1"
   },
   "outputs": [],
   "source": [
    "IQR =stats.iqr(data.mort_acc,interpolation='midpoint')\n",
    "Q1=data.mort_acc.quantile(0.25)\n",
    "Q3=data.mort_acc.quantile(0.75)\n",
    "min_limit=Q1-1.5*IQR\n",
    "max_limit=Q3+1.5*IQR\n",
    "min_limit,max_limit\n",
    "data.loc[data['mort_acc']>max_limit,'mort_acc']=np.median(data.mort_acc)"
   ]
  },
  {
   "cell_type": "code",
   "execution_count": 13,
   "metadata": {
    "colab": {
     "base_uri": "https://localhost:8080/"
    },
    "id": "xB8jeLQ9j7XY",
    "outputId": "4f6353e3-8189-43dd-8e20-4ee489de5d1f"
   },
   "outputs": [],
   "source": [
    "IQR =stats.iqr(data.total_acc,interpolation='midpoint')\n",
    "Q1=data.total_acc.quantile(0.25)\n",
    "Q3=data.total_acc.quantile(0.75)\n",
    "min_limit=Q1-1.5*IQR\n",
    "max_limit=Q3+1.5*IQR\n",
    "min_limit,max_limit\n",
    "data.loc[data['total_acc']>max_limit,'total_acc']=np.median(data.total_acc)"
   ]
  },
  {
   "cell_type": "code",
   "execution_count": 14,
   "metadata": {
    "colab": {
     "base_uri": "https://localhost:8080/",
     "height": 834
    },
    "id": "pQuF4P3QkGi5",
    "outputId": "a0aef981-72db-4064-b471-2ec4502b7702"
   },
   "outputs": [],
   "source": [
    "cat_data=data.select_dtypes(include=['object'])\n",
    "num_data=num_data=data.select_dtypes(include=['float64'])"
   ]
  },
  {
   "cell_type": "code",
   "execution_count": 15,
   "metadata": {
    "id": "rLBdOlgPkEF7"
   },
   "outputs": [],
   "source": [
    "from sklearn.preprocessing import LabelEncoder"
   ]
  },
  {
   "cell_type": "code",
   "execution_count": 16,
   "metadata": {
    "id": "8vATdBXXkKNP"
   },
   "outputs": [],
   "source": [
    "le=LabelEncoder()\n",
    "data['emp_title']=le.fit_transform(data['emp_title'])\n",
    "data['home_ownership']=le.fit_transform(data['home_ownership'])\n",
    "data['verification_status']=le.fit_transform(data['verification_status'])\n",
    "data['purpose']=le.fit_transform(data['purpose'])\n",
    "data['application_type']=le.fit_transform(data['application_type']) \n",
    "data['initial_list_status']=le.fit_transform(data['initial_list_status'])\n",
    "data['sub_grade']=le.fit_transform(data['sub_grade'])"
   ]
  },
  {
   "cell_type": "code",
   "execution_count": 17,
   "metadata": {},
   "outputs": [],
   "source": [
    "data['loan_status'] = data['loan_status'].map({\"Fully Paid\": 1, \"Charged Off\": 0})"
   ]
  },
  {
   "cell_type": "code",
   "execution_count": 18,
   "metadata": {},
   "outputs": [
    {
     "data": {
      "text/plain": [
       "1    269556\n",
       "0     66312\n",
       "Name: loan_status, dtype: int64"
      ]
     },
     "execution_count": 18,
     "metadata": {},
     "output_type": "execute_result"
    }
   ],
   "source": [
    "data['loan_status'].value_counts()"
   ]
  },
  {
   "cell_type": "code",
   "execution_count": 19,
   "metadata": {
    "id": "MOw0b7TGkxjT"
   },
   "outputs": [],
   "source": [
    "data.drop(data[['address','title','issue_d','emp_title','emp_length','purpose']],axis=1, inplace=True)"
   ]
  },
  {
   "cell_type": "code",
   "execution_count": 20,
   "metadata": {
    "id": "R-XMP3QAlaUw"
   },
   "outputs": [],
   "source": [
    "#droping highly correlated features -- instsallment, grade, mort_acc\n",
    "data.drop(data[['grade']],axis=1, inplace=True)\n"
   ]
  },
  {
   "cell_type": "code",
   "execution_count": 21,
   "metadata": {
    "colab": {
     "base_uri": "https://localhost:8080/"
    },
    "id": "CtjrrK5A6bBj",
    "outputId": "8a78b11e-078f-44fa-b1d8-f25c96c4ff32"
   },
   "outputs": [
    {
     "data": {
      "text/plain": [
       "Index(['loan_amnt', 'term', 'int_rate', 'installment', 'sub_grade',\n",
       "       'home_ownership', 'annual_inc', 'verification_status', 'loan_status',\n",
       "       'dti', 'earliest_cr_line', 'open_acc', 'pub_rec', 'revol_bal',\n",
       "       'revol_util', 'total_acc', 'initial_list_status', 'application_type',\n",
       "       'mort_acc', 'pub_rec_bankruptcies'],\n",
       "      dtype='object')"
      ]
     },
     "execution_count": 21,
     "metadata": {},
     "output_type": "execute_result"
    }
   ],
   "source": [
    "data.columns"
   ]
  },
  {
   "cell_type": "code",
   "execution_count": 22,
   "metadata": {
    "id": "h_nMpo6EFkMs"
   },
   "outputs": [],
   "source": [
    "# split data into feature and target\n",
    "x = data[['loan_amnt', 'int_rate', 'annual_inc','dti','open_acc', 'pub_rec','revol_bal','mort_acc',]]\n",
    "y = data['loan_status']"
   ]
  },
  {
   "cell_type": "code",
   "execution_count": 23,
   "metadata": {},
   "outputs": [],
   "source": [
    "# Split the data into training and testing sets\n",
    "from sklearn.model_selection import train_test_split\n",
    "x_train, x_test, y_train, y_test = train_test_split(x, y, test_size=0.2, random_state=42)"
   ]
  },
  {
   "cell_type": "code",
   "execution_count": 24,
   "metadata": {},
   "outputs": [],
   "source": [
    "from sklearn.preprocessing import StandardScaler"
   ]
  },
  {
   "cell_type": "code",
   "execution_count": 25,
   "metadata": {},
   "outputs": [
    {
     "name": "stdout",
     "output_type": "stream",
     "text": [
      "Before Over Sampling, count of the label '1': 215673\n",
      "Before Over Sampling, count of the label '0': 53021 \n",
      "\n",
      "After Over Sampling, the shape of the train_X: (431346, 8)\n",
      "After Over Sampling, the shape of the train_y: (431346,) \n",
      "\n",
      "After Over Sampling, count of the label '1': 215673\n",
      "After Over Sampling, count of the label '0': 215673\n"
     ]
    }
   ],
   "source": [
    "# importing SMOTE module from imblearn library  \n",
    "# pip install imblearn (if you don't have imblearn in your system)  \n",
    "\n",
    "print(\"Before Over Sampling, count of the label '1': {}\".format(sum(y_train == 1)))  \n",
    "print(\"Before Over Sampling, count of the label '0': {} \\n\".format(sum(y_train == 0)))  \n",
    "from imblearn.over_sampling import SMOTE  \n",
    "sm1 = SMOTE(random_state = 2)  \n",
    "x_train_res, y_train_res = sm1.fit_resample(x_train, y_train.ravel())  \n",
    "print('After Over Sampling, the shape of the train_X: {}'.format(x_train_res.shape))  \n",
    "print('After Over Sampling, the shape of the train_y: {} \\n'.format(y_train_res.shape))  \n",
    "print(\"After Over Sampling, count of the label '1': {}\".format(sum(y_train_res == 1)))  \n",
    "print(\"After Over Sampling, count of the label '0': {}\".format(sum(y_train_res == 0)))"
   ]
  },
  {
   "cell_type": "code",
   "execution_count": 26,
   "metadata": {},
   "outputs": [],
   "source": [
    "n_estimators =[int(x_train_res) for x_train_res in np.linspace(start =10,stop=80,num=10)]\n",
    "max_features=['auto','sqrt']\n",
    "max_depth = [2,4]\n",
    "min_samples_split=[2,5]\n",
    "min_samples_leaf = [1,2]\n",
    "bootstrap = [True,False]"
   ]
  },
  {
   "cell_type": "code",
   "execution_count": 27,
   "metadata": {},
   "outputs": [
    {
     "name": "stdout",
     "output_type": "stream",
     "text": [
      "{'n_estimators': [10, 17, 25, 33, 41, 48, 56, 64, 72, 80], 'max_features': ['auto', 'sqrt'], 'max_depth': [2, 4], 'min_samples_leaf': [1, 2], 'bootstrap': [True, False]}\n"
     ]
    }
   ],
   "source": [
    "param_grid = {\n",
    "    'n_estimators': n_estimators,\n",
    "    'max_features': max_features,\n",
    "    'max_depth': max_depth,\n",
    "    'min_samples_leaf':min_samples_leaf,\n",
    "    'bootstrap': bootstrap\n",
    "}\n",
    "print(param_grid)"
   ]
  },
  {
   "cell_type": "code",
   "execution_count": 28,
   "metadata": {},
   "outputs": [],
   "source": [
    "from sklearn.ensemble import RandomForestClassifier\n",
    "model = RandomForestClassifier()\n",
    "rf_classifier = RandomForestClassifier()"
   ]
  },
  {
   "cell_type": "code",
   "execution_count": 29,
   "metadata": {},
   "outputs": [
    {
     "name": "stdout",
     "output_type": "stream",
     "text": [
      "Fitting 10 folds for each of 10 candidates, totalling 100 fits\n"
     ]
    },
    {
     "data": {
      "text/plain": [
       "RandomizedSearchCV(cv=10, estimator=RandomForestClassifier(), n_jobs=4,\n",
       "                   param_distributions={'bootstrap': [True, False],\n",
       "                                        'max_depth': [2, 4],\n",
       "                                        'max_features': ['auto', 'sqrt'],\n",
       "                                        'min_samples_leaf': [1, 2],\n",
       "                                        'n_estimators': [10, 17, 25, 33, 41, 48,\n",
       "                                                         56, 64, 72, 80]},\n",
       "                   verbose=2)"
      ]
     },
     "execution_count": 29,
     "metadata": {},
     "output_type": "execute_result"
    }
   ],
   "source": [
    "from sklearn.model_selection import RandomizedSearchCV\n",
    "rf_RandomGrid = RandomizedSearchCV(estimator = rf_classifier,param_distributions=param_grid, cv=10 ,verbose=2, n_jobs = 4)\n",
    "rf_RandomGrid.fit(x_train_res,y_train_res)"
   ]
  },
  {
   "cell_type": "code",
   "execution_count": 30,
   "metadata": {},
   "outputs": [],
   "source": [
    "best_model  = rf_RandomGrid.best_estimator_"
   ]
  },
  {
   "cell_type": "code",
   "execution_count": 36,
   "metadata": {},
   "outputs": [],
   "source": [
    "y_pred_grid = best_model.predict(x_test)"
   ]
  },
  {
   "cell_type": "code",
   "execution_count": 41,
   "metadata": {},
   "outputs": [],
   "source": [
    "import pickle\n",
    "RF_pkl = open('model.pkl','wb')\n",
    "pickle.dump(best_model,RF_pkl)\n",
    "RF_pkl.close()"
   ]
  },
  {
   "cell_type": "code",
   "execution_count": 42,
   "metadata": {},
   "outputs": [],
   "source": [
    "le_pkl = open('le.pkl','wb')\n",
    "pickle.dump(le,le_pkl)\n",
    "le_pkl.close()"
   ]
  },
  {
   "cell_type": "code",
   "execution_count": 43,
   "metadata": {},
   "outputs": [],
   "source": [
    "#with open('scaled_data.pkl','wb') as file:\n",
    " #   pickle.dump(scaled_data, file)"
   ]
  },
  {
   "cell_type": "code",
   "execution_count": 44,
   "metadata": {},
   "outputs": [],
   "source": [
    "scaler = StandardScaler()\n",
    "scaler.fit(x_train)\n",
    "\n",
    "# Save the scaler object using pickle\n",
    "with open('scaler.pkl', 'wb') as file:\n",
    "    pickle.dump(scaler, file)"
   ]
  },
  {
   "cell_type": "code",
   "execution_count": 45,
   "metadata": {},
   "outputs": [
    {
     "name": "stdout",
     "output_type": "stream",
     "text": [
      "Value: 0, Count: 27952\n",
      "Value: 1, Count: 39222\n"
     ]
    }
   ],
   "source": [
    "y_p = best_model.predict(x_test)\n",
    "unique_values, counts = np.unique(y_p, return_counts=True)\n",
    "\n",
    "for value, count in zip(unique_values, counts):\n",
    "    print(f\"Value: {value}, Count: {count}\")"
   ]
  },
  {
   "cell_type": "code",
   "execution_count": null,
   "metadata": {},
   "outputs": [],
   "source": []
  }
 ],
 "metadata": {
  "colab": {
   "provenance": []
  },
  "kernelspec": {
   "display_name": "Python 3 (ipykernel)",
   "language": "python",
   "name": "python3"
  },
  "language_info": {
   "codemirror_mode": {
    "name": "ipython",
    "version": 3
   },
   "file_extension": ".py",
   "mimetype": "text/x-python",
   "name": "python",
   "nbconvert_exporter": "python",
   "pygments_lexer": "ipython3",
   "version": "3.9.13"
  }
 },
 "nbformat": 4,
 "nbformat_minor": 1
}
